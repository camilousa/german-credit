{
 "cells": [
  {
   "cell_type": "code",
   "execution_count": 49,
   "id": "7edc2335",
   "metadata": {},
   "outputs": [],
   "source": [
    "import pandas as pd\n",
    "import numpy as np\n",
    "from sklearn.model_selection import train_test_split"
   ]
  },
  {
   "cell_type": "code",
   "execution_count": 2,
   "id": "c6a1c60f",
   "metadata": {},
   "outputs": [],
   "source": [
    "df = pd.read_csv(\"s3://german-credit-255423/datos/original/german_credit_data.csv\")"
   ]
  },
  {
   "cell_type": "code",
   "execution_count": 13,
   "id": "7c454b7f",
   "metadata": {},
   "outputs": [
    {
     "data": {
      "text/plain": [
       "good    0.7\n",
       "bad     0.3\n",
       "Name: Risk, dtype: float64"
      ]
     },
     "execution_count": 13,
     "metadata": {},
     "output_type": "execute_result"
    }
   ],
   "source": [
    "df[\"Risk\"].value_counts()/df[\"Risk\"].count()"
   ]
  },
  {
   "cell_type": "code",
   "execution_count": 16,
   "id": "71ec2dc1",
   "metadata": {},
   "outputs": [],
   "source": [
    "train, test = train_test_split(df, test_size=0.3, \n",
    "                               random_state=42, stratify=df[\"Risk\"])"
   ]
  },
  {
   "cell_type": "code",
   "execution_count": 17,
   "id": "ba8ae957",
   "metadata": {},
   "outputs": [
    {
     "data": {
      "text/plain": [
       "good    0.7\n",
       "bad     0.3\n",
       "Name: Risk, dtype: float64"
      ]
     },
     "execution_count": 17,
     "metadata": {},
     "output_type": "execute_result"
    }
   ],
   "source": [
    "train[\"Risk\"].value_counts()/train[\"Risk\"].count()"
   ]
  },
  {
   "cell_type": "code",
   "execution_count": 19,
   "id": "d31d8444",
   "metadata": {},
   "outputs": [
    {
     "data": {
      "text/plain": [
       "good    0.7\n",
       "bad     0.3\n",
       "Name: Risk, dtype: float64"
      ]
     },
     "execution_count": 19,
     "metadata": {},
     "output_type": "execute_result"
    }
   ],
   "source": [
    "test[\"Risk\"].value_counts()/test[\"Risk\"].count()"
   ]
  },
  {
   "cell_type": "markdown",
   "id": "b0f18402",
   "metadata": {},
   "source": [
    "## Dividir en train, test"
   ]
  },
  {
   "cell_type": "code",
   "execution_count": 24,
   "id": "cc1517c2",
   "metadata": {},
   "outputs": [],
   "source": [
    "train.to_csv(\"s3://german-credit-255423/datos/train/train.csv\", index=False)"
   ]
  },
  {
   "cell_type": "code",
   "execution_count": 23,
   "id": "6cc0b6e4",
   "metadata": {},
   "outputs": [],
   "source": [
    "test.to_csv(\"s3://german-credit-255423/datos/test/test.csv\", index=False)"
   ]
  },
  {
   "cell_type": "markdown",
   "id": "ea906512",
   "metadata": {},
   "source": [
    "## Exploración"
   ]
  },
  {
   "cell_type": "code",
   "execution_count": 27,
   "id": "82c50a98",
   "metadata": {},
   "outputs": [
    {
     "data": {
      "text/html": [
       "<div>\n",
       "<style scoped>\n",
       "    .dataframe tbody tr th:only-of-type {\n",
       "        vertical-align: middle;\n",
       "    }\n",
       "\n",
       "    .dataframe tbody tr th {\n",
       "        vertical-align: top;\n",
       "    }\n",
       "\n",
       "    .dataframe thead th {\n",
       "        text-align: right;\n",
       "    }\n",
       "</style>\n",
       "<table border=\"1\" class=\"dataframe\">\n",
       "  <thead>\n",
       "    <tr style=\"text-align: right;\">\n",
       "      <th>Risk</th>\n",
       "      <th>bad</th>\n",
       "      <th>good</th>\n",
       "      <th>All</th>\n",
       "    </tr>\n",
       "    <tr>\n",
       "      <th>Housing</th>\n",
       "      <th></th>\n",
       "      <th></th>\n",
       "      <th></th>\n",
       "    </tr>\n",
       "  </thead>\n",
       "  <tbody>\n",
       "    <tr>\n",
       "      <th>free</th>\n",
       "      <td>29</td>\n",
       "      <td>45</td>\n",
       "      <td>74</td>\n",
       "    </tr>\n",
       "    <tr>\n",
       "      <th>own</th>\n",
       "      <td>133</td>\n",
       "      <td>371</td>\n",
       "      <td>504</td>\n",
       "    </tr>\n",
       "    <tr>\n",
       "      <th>rent</th>\n",
       "      <td>48</td>\n",
       "      <td>74</td>\n",
       "      <td>122</td>\n",
       "    </tr>\n",
       "    <tr>\n",
       "      <th>All</th>\n",
       "      <td>210</td>\n",
       "      <td>490</td>\n",
       "      <td>700</td>\n",
       "    </tr>\n",
       "  </tbody>\n",
       "</table>\n",
       "</div>"
      ],
      "text/plain": [
       "Risk     bad  good  All\n",
       "Housing                \n",
       "free      29    45   74\n",
       "own      133   371  504\n",
       "rent      48    74  122\n",
       "All      210   490  700"
      ]
     },
     "execution_count": 27,
     "metadata": {},
     "output_type": "execute_result"
    }
   ],
   "source": [
    "pd.crosstab(index=train[\"Housing\"], columns=train[\"Risk\"], margins=True)"
   ]
  },
  {
   "cell_type": "code",
   "execution_count": 36,
   "id": "7f6927b9",
   "metadata": {},
   "outputs": [],
   "source": [
    "tabla_sex = pd.crosstab(index=train[\"Sex\"], columns=train[\"Risk\"], margins=True)"
   ]
  },
  {
   "cell_type": "code",
   "execution_count": 38,
   "id": "cdabbada",
   "metadata": {},
   "outputs": [
    {
     "data": {
      "text/html": [
       "<div>\n",
       "<style scoped>\n",
       "    .dataframe tbody tr th:only-of-type {\n",
       "        vertical-align: middle;\n",
       "    }\n",
       "\n",
       "    .dataframe tbody tr th {\n",
       "        vertical-align: top;\n",
       "    }\n",
       "\n",
       "    .dataframe thead th {\n",
       "        text-align: right;\n",
       "    }\n",
       "</style>\n",
       "<table border=\"1\" class=\"dataframe\">\n",
       "  <thead>\n",
       "    <tr style=\"text-align: right;\">\n",
       "      <th>Risk</th>\n",
       "      <th>bad</th>\n",
       "      <th>good</th>\n",
       "      <th>All</th>\n",
       "    </tr>\n",
       "    <tr>\n",
       "      <th>Sex</th>\n",
       "      <th></th>\n",
       "      <th></th>\n",
       "      <th></th>\n",
       "    </tr>\n",
       "  </thead>\n",
       "  <tbody>\n",
       "    <tr>\n",
       "      <th>female</th>\n",
       "      <td>76</td>\n",
       "      <td>138</td>\n",
       "      <td>214</td>\n",
       "    </tr>\n",
       "    <tr>\n",
       "      <th>male</th>\n",
       "      <td>134</td>\n",
       "      <td>352</td>\n",
       "      <td>486</td>\n",
       "    </tr>\n",
       "    <tr>\n",
       "      <th>All</th>\n",
       "      <td>210</td>\n",
       "      <td>490</td>\n",
       "      <td>700</td>\n",
       "    </tr>\n",
       "  </tbody>\n",
       "</table>\n",
       "</div>"
      ],
      "text/plain": [
       "Risk    bad  good  All\n",
       "Sex                   \n",
       "female   76   138  214\n",
       "male    134   352  486\n",
       "All     210   490  700"
      ]
     },
     "execution_count": 38,
     "metadata": {},
     "output_type": "execute_result"
    }
   ],
   "source": [
    "tabla_sex"
   ]
  },
  {
   "cell_type": "code",
   "execution_count": 40,
   "id": "83f2a3ff",
   "metadata": {},
   "outputs": [],
   "source": [
    "tabla_sex[\"proba\"] = tabla_sex.iloc[:, 1]/tabla_sex.iloc[:, 2]"
   ]
  },
  {
   "cell_type": "code",
   "execution_count": 41,
   "id": "cbb004c4",
   "metadata": {},
   "outputs": [
    {
     "data": {
      "text/html": [
       "<div>\n",
       "<style scoped>\n",
       "    .dataframe tbody tr th:only-of-type {\n",
       "        vertical-align: middle;\n",
       "    }\n",
       "\n",
       "    .dataframe tbody tr th {\n",
       "        vertical-align: top;\n",
       "    }\n",
       "\n",
       "    .dataframe thead th {\n",
       "        text-align: right;\n",
       "    }\n",
       "</style>\n",
       "<table border=\"1\" class=\"dataframe\">\n",
       "  <thead>\n",
       "    <tr style=\"text-align: right;\">\n",
       "      <th>Risk</th>\n",
       "      <th>bad</th>\n",
       "      <th>good</th>\n",
       "      <th>All</th>\n",
       "      <th>proba</th>\n",
       "    </tr>\n",
       "    <tr>\n",
       "      <th>Sex</th>\n",
       "      <th></th>\n",
       "      <th></th>\n",
       "      <th></th>\n",
       "      <th></th>\n",
       "    </tr>\n",
       "  </thead>\n",
       "  <tbody>\n",
       "    <tr>\n",
       "      <th>female</th>\n",
       "      <td>76</td>\n",
       "      <td>138</td>\n",
       "      <td>214</td>\n",
       "      <td>0.64486</td>\n",
       "    </tr>\n",
       "    <tr>\n",
       "      <th>male</th>\n",
       "      <td>134</td>\n",
       "      <td>352</td>\n",
       "      <td>486</td>\n",
       "      <td>0.72428</td>\n",
       "    </tr>\n",
       "    <tr>\n",
       "      <th>All</th>\n",
       "      <td>210</td>\n",
       "      <td>490</td>\n",
       "      <td>700</td>\n",
       "      <td>0.70000</td>\n",
       "    </tr>\n",
       "  </tbody>\n",
       "</table>\n",
       "</div>"
      ],
      "text/plain": [
       "Risk    bad  good  All    proba\n",
       "Sex                            \n",
       "female   76   138  214  0.64486\n",
       "male    134   352  486  0.72428\n",
       "All     210   490  700  0.70000"
      ]
     },
     "execution_count": 41,
     "metadata": {},
     "output_type": "execute_result"
    }
   ],
   "source": [
    "tabla_sex"
   ]
  },
  {
   "cell_type": "markdown",
   "id": "81709abc",
   "metadata": {},
   "source": [
    "## Preprocesamiento"
   ]
  },
  {
   "cell_type": "markdown",
   "id": "01a2deb8",
   "metadata": {},
   "source": [
    "## Imputación"
   ]
  },
  {
   "cell_type": "code",
   "execution_count": 43,
   "id": "c24ed0de",
   "metadata": {},
   "outputs": [],
   "source": [
    "from sklearn.impute import SimpleImputer"
   ]
  },
  {
   "cell_type": "code",
   "execution_count": 44,
   "id": "f282cc30",
   "metadata": {},
   "outputs": [],
   "source": [
    "X_train = train[[\"Age\", \"Credit amount\", \"Duration\"]]"
   ]
  },
  {
   "cell_type": "code",
   "execution_count": 45,
   "id": "e7f33653",
   "metadata": {},
   "outputs": [],
   "source": [
    "imputer = SimpleImputer(strategy='mean')"
   ]
  },
  {
   "cell_type": "code",
   "execution_count": 46,
   "id": "a6819d1a",
   "metadata": {},
   "outputs": [
    {
     "data": {
      "text/plain": [
       "SimpleImputer()"
      ]
     },
     "execution_count": 46,
     "metadata": {},
     "output_type": "execute_result"
    }
   ],
   "source": [
    "imputer.fit(X_train)"
   ]
  },
  {
   "cell_type": "code",
   "execution_count": 47,
   "id": "c91d3ece",
   "metadata": {},
   "outputs": [
    {
     "data": {
      "text/plain": [
       "array([  35.40285714, 3236.12142857,   21.04857143])"
      ]
     },
     "execution_count": 47,
     "metadata": {},
     "output_type": "execute_result"
    }
   ],
   "source": [
    "imputer.statistics_"
   ]
  },
  {
   "cell_type": "code",
   "execution_count": 50,
   "id": "23e41504",
   "metadata": {},
   "outputs": [
    {
     "data": {
      "text/plain": [
       "35.402857142857144"
      ]
     },
     "execution_count": 50,
     "metadata": {},
     "output_type": "execute_result"
    }
   ],
   "source": [
    "X_train[\"Age\"].mean()"
   ]
  },
  {
   "cell_type": "code",
   "execution_count": 51,
   "id": "8a70c33c",
   "metadata": {},
   "outputs": [
    {
     "name": "stderr",
     "output_type": "stream",
     "text": [
      "/home/ec2-user/anaconda3/envs/python3/lib/python3.8/site-packages/sklearn/base.py:445: UserWarning: X does not have valid feature names, but SimpleImputer was fitted with feature names\n",
      "  warnings.warn(\n"
     ]
    },
    {
     "data": {
      "text/plain": [
       "array([[  24.        , 1000.        ,   21.04857143],\n",
       "       [  35.40285714, 3236.12142857,   12.        ]])"
      ]
     },
     "execution_count": 51,
     "metadata": {},
     "output_type": "execute_result"
    }
   ],
   "source": [
    "imputer.transform([[24, 1000, np.nan], \n",
    "                  [np.nan, np.nan, 12]])"
   ]
  },
  {
   "cell_type": "code",
   "execution_count": 52,
   "id": "fb75d5a4",
   "metadata": {},
   "outputs": [
    {
     "data": {
      "text/plain": [
       "array([[3.100e+01, 4.473e+03, 3.600e+01],\n",
       "       [4.600e+01, 1.829e+03, 1.500e+01],\n",
       "       [2.700e+01, 7.418e+03, 6.000e+01],\n",
       "       ...,\n",
       "       [6.300e+01, 1.655e+03, 1.200e+01],\n",
       "       [4.900e+01, 2.096e+03, 1.200e+01],\n",
       "       [3.700e+01, 3.676e+03, 6.000e+00]])"
      ]
     },
     "execution_count": 52,
     "metadata": {},
     "output_type": "execute_result"
    }
   ],
   "source": [
    "imputer.fit_transform(X_train)"
   ]
  },
  {
   "cell_type": "code",
   "execution_count": 53,
   "id": "9828a79c",
   "metadata": {},
   "outputs": [],
   "source": [
    "from sklearn.impute import KNNImputer"
   ]
  },
  {
   "cell_type": "code",
   "execution_count": 54,
   "id": "e043c403",
   "metadata": {},
   "outputs": [],
   "source": [
    "imputer = KNNImputer(n_neighbors=2)"
   ]
  },
  {
   "cell_type": "code",
   "execution_count": 55,
   "id": "1a08b6dd",
   "metadata": {},
   "outputs": [
    {
     "data": {
      "text/html": [
       "<div>\n",
       "<style scoped>\n",
       "    .dataframe tbody tr th:only-of-type {\n",
       "        vertical-align: middle;\n",
       "    }\n",
       "\n",
       "    .dataframe tbody tr th {\n",
       "        vertical-align: top;\n",
       "    }\n",
       "\n",
       "    .dataframe thead th {\n",
       "        text-align: right;\n",
       "    }\n",
       "</style>\n",
       "<table border=\"1\" class=\"dataframe\">\n",
       "  <thead>\n",
       "    <tr style=\"text-align: right;\">\n",
       "      <th></th>\n",
       "      <th>peso</th>\n",
       "      <th>edad</th>\n",
       "      <th>nota</th>\n",
       "    </tr>\n",
       "  </thead>\n",
       "  <tbody>\n",
       "    <tr>\n",
       "      <th>0</th>\n",
       "      <td>40</td>\n",
       "      <td>19</td>\n",
       "      <td>3.0</td>\n",
       "    </tr>\n",
       "    <tr>\n",
       "      <th>1</th>\n",
       "      <td>42</td>\n",
       "      <td>20</td>\n",
       "      <td>3.1</td>\n",
       "    </tr>\n",
       "    <tr>\n",
       "      <th>2</th>\n",
       "      <td>44</td>\n",
       "      <td>21</td>\n",
       "      <td>NaN</td>\n",
       "    </tr>\n",
       "    <tr>\n",
       "      <th>3</th>\n",
       "      <td>45</td>\n",
       "      <td>23</td>\n",
       "      <td>4.1</td>\n",
       "    </tr>\n",
       "    <tr>\n",
       "      <th>4</th>\n",
       "      <td>39</td>\n",
       "      <td>25</td>\n",
       "      <td>5.0</td>\n",
       "    </tr>\n",
       "    <tr>\n",
       "      <th>5</th>\n",
       "      <td>80</td>\n",
       "      <td>27</td>\n",
       "      <td>NaN</td>\n",
       "    </tr>\n",
       "    <tr>\n",
       "      <th>6</th>\n",
       "      <td>82</td>\n",
       "      <td>30</td>\n",
       "      <td>4.8</td>\n",
       "    </tr>\n",
       "  </tbody>\n",
       "</table>\n",
       "</div>"
      ],
      "text/plain": [
       "   peso  edad  nota\n",
       "0    40    19   3.0\n",
       "1    42    20   3.1\n",
       "2    44    21   NaN\n",
       "3    45    23   4.1\n",
       "4    39    25   5.0\n",
       "5    80    27   NaN\n",
       "6    82    30   4.8"
      ]
     },
     "execution_count": 55,
     "metadata": {},
     "output_type": "execute_result"
    }
   ],
   "source": [
    "d = {'peso': [40, 42,44,45,39,80,82], 'edad': [19,20,21,23,25,27,30], 'nota':[3.0,3.1,None,4.1,5.0,None,4.8]}\n",
    "dfs = pd.DataFrame(data=d)\n",
    "dfs"
   ]
  },
  {
   "cell_type": "code",
   "execution_count": 56,
   "id": "d6a58160",
   "metadata": {},
   "outputs": [],
   "source": [
    "result = imputer.fit_transform(dfs)"
   ]
  },
  {
   "cell_type": "code",
   "execution_count": 57,
   "id": "ff840cca",
   "metadata": {},
   "outputs": [
    {
     "data": {
      "text/plain": [
       "array([[40.  , 19.  ,  3.  ],\n",
       "       [42.  , 20.  ,  3.1 ],\n",
       "       [44.  , 21.  ,  3.6 ],\n",
       "       [45.  , 23.  ,  4.1 ],\n",
       "       [39.  , 25.  ,  5.  ],\n",
       "       [80.  , 27.  ,  4.45],\n",
       "       [82.  , 30.  ,  4.8 ]])"
      ]
     },
     "execution_count": 57,
     "metadata": {},
     "output_type": "execute_result"
    }
   ],
   "source": [
    "result"
   ]
  },
  {
   "cell_type": "markdown",
   "id": "77e31896",
   "metadata": {},
   "source": [
    "## Escalado"
   ]
  },
  {
   "cell_type": "code",
   "execution_count": 58,
   "id": "8346ee26",
   "metadata": {},
   "outputs": [],
   "source": [
    "from sklearn.preprocessing import StandardScaler, RobustScaler"
   ]
  },
  {
   "cell_type": "code",
   "execution_count": 59,
   "id": "21fae76a",
   "metadata": {},
   "outputs": [],
   "source": [
    "scaler = StandardScaler()"
   ]
  },
  {
   "cell_type": "code",
   "execution_count": 69,
   "id": "b56dab4d",
   "metadata": {},
   "outputs": [
    {
     "data": {
      "text/plain": [
       "StandardScaler()"
      ]
     },
     "execution_count": 69,
     "metadata": {},
     "output_type": "execute_result"
    }
   ],
   "source": [
    "scaler.fit(X_train[[\"Age\"]])"
   ]
  },
  {
   "cell_type": "code",
   "execution_count": 70,
   "id": "335c7691",
   "metadata": {},
   "outputs": [
    {
     "data": {
      "text/plain": [
       "array([35.40285714])"
      ]
     },
     "execution_count": 70,
     "metadata": {},
     "output_type": "execute_result"
    }
   ],
   "source": [
    "scaler.mean_"
   ]
  },
  {
   "cell_type": "code",
   "execution_count": 71,
   "id": "abd438ca",
   "metadata": {},
   "outputs": [
    {
     "data": {
      "text/plain": [
       "array([11.23479253])"
      ]
     },
     "execution_count": 71,
     "metadata": {},
     "output_type": "execute_result"
    }
   ],
   "source": [
    "scaler.var_ ** 0.5"
   ]
  },
  {
   "cell_type": "code",
   "execution_count": 73,
   "id": "d1551b77",
   "metadata": {},
   "outputs": [
    {
     "data": {
      "text/plain": [
       "array([[31.00000003]])"
      ]
     },
     "execution_count": 73,
     "metadata": {},
     "output_type": "execute_result"
    }
   ],
   "source": [
    "scaler.inverse_transform([[-0.39189483]])"
   ]
  },
  {
   "cell_type": "code",
   "execution_count": 75,
   "id": "172d4365",
   "metadata": {},
   "outputs": [
    {
     "data": {
      "text/plain": [
       "328    31\n",
       "891    46\n",
       "255    27\n",
       "243    27\n",
       "492    27\n",
       "       ..\n",
       "73     41\n",
       "401    28\n",
       "769    63\n",
       "2      49\n",
       "617    37\n",
       "Name: Age, Length: 700, dtype: int64"
      ]
     },
     "execution_count": 75,
     "metadata": {},
     "output_type": "execute_result"
    }
   ],
   "source": [
    "X_train[\"Age\"]"
   ]
  },
  {
   "cell_type": "code",
   "execution_count": 77,
   "id": "0ed22d12",
   "metadata": {},
   "outputs": [
    {
     "data": {
      "text/plain": [
       "33.0"
      ]
     },
     "execution_count": 77,
     "metadata": {},
     "output_type": "execute_result"
    }
   ],
   "source": [
    "X_train[\"Age\"].quantile(0.5)"
   ]
  },
  {
   "cell_type": "code",
   "execution_count": 78,
   "id": "ef158f5b",
   "metadata": {},
   "outputs": [
    {
     "data": {
      "text/plain": [
       "33.0"
      ]
     },
     "execution_count": 78,
     "metadata": {},
     "output_type": "execute_result"
    }
   ],
   "source": [
    "X_train[\"Age\"].median()"
   ]
  },
  {
   "cell_type": "code",
   "execution_count": null,
   "id": "fb5a13f9",
   "metadata": {},
   "outputs": [],
   "source": []
  }
 ],
 "metadata": {
  "kernelspec": {
   "display_name": "conda_python3",
   "language": "python",
   "name": "conda_python3"
  },
  "language_info": {
   "codemirror_mode": {
    "name": "ipython",
    "version": 3
   },
   "file_extension": ".py",
   "mimetype": "text/x-python",
   "name": "python",
   "nbconvert_exporter": "python",
   "pygments_lexer": "ipython3",
   "version": "3.8.12"
  }
 },
 "nbformat": 4,
 "nbformat_minor": 5
}
